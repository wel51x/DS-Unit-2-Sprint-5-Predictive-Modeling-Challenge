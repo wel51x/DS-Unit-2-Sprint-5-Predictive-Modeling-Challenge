{
  "nbformat": 4,
  "nbformat_minor": 0,
  "metadata": {
    "colab": {
      "name": "DS2 Unit2 Sprint5 Day 1 Submission.ipynb",
      "version": "0.3.2",
      "provenance": [],
      "collapsed_sections": [],
      "toc_visible": true,
      "include_colab_link": true
    },
    "kernelspec": {
      "name": "python3",
      "display_name": "Python 3"
    }
  },
  "cells": [
    {
      "cell_type": "markdown",
      "metadata": {
        "id": "view-in-github",
        "colab_type": "text"
      },
      "source": [
        "<a href=\"https://colab.research.google.com/github/wel51x/DS-Unit-2-Sprint-5-Predictive-Modeling-Challenge/blob/master/DS2_Unit2_Sprint5_Day_1_Submission.ipynb\" target=\"_parent\"><img src=\"https://colab.research.google.com/assets/colab-badge.svg\" alt=\"Open In Colab\"/></a>"
      ]
    },
    {
      "metadata": {
        "id": "hrd6ElUQt3w1",
        "colab_type": "text"
      },
      "cell_type": "markdown",
      "source": [
        "# Data Science Unit 2 Sprint 5 DS2 Predictive Modeling Challenge"
      ]
    },
    {
      "metadata": {
        "id": "79CxSaYBuI7N",
        "colab_type": "text"
      },
      "cell_type": "markdown",
      "source": [
        "## Day 1 - LogisticRegressions\n",
        "doesn't handle \"functional needs repair\" (maps it to \"functional\")"
      ]
    },
    {
      "metadata": {
        "id": "d-QjA434wc3G",
        "colab_type": "code",
        "outputId": "1776b54d-d5f4-45e7-984f-6025d78403d2",
        "colab": {
          "base_uri": "https://localhost:8080/",
          "height": 370
        }
      },
      "cell_type": "code",
      "source": [
        "# for colab must re-upload files after running this\n",
        "!pip install category_encoders"
      ],
      "execution_count": 0,
      "outputs": [
        {
          "output_type": "stream",
          "text": [
            "Collecting category_encoders\n",
            "\u001b[?25l  Downloading https://files.pythonhosted.org/packages/f7/d3/82a4b85a87ece114f6d0139d643580c726efa45fa4db3b81aed38c0156c5/category_encoders-1.3.0-py2.py3-none-any.whl (61kB)\n",
            "\u001b[K    100% |████████████████████████████████| 61kB 4.0MB/s \n",
            "\u001b[?25hRequirement already satisfied: numpy>=1.11.1 in /usr/local/lib/python3.6/dist-packages (from category_encoders) (1.14.6)\n",
            "Requirement already satisfied: pandas>=0.20.1 in /usr/local/lib/python3.6/dist-packages (from category_encoders) (0.22.0)\n",
            "Requirement already satisfied: statsmodels>=0.6.1 in /usr/local/lib/python3.6/dist-packages (from category_encoders) (0.8.0)\n",
            "Requirement already satisfied: scipy>=0.17.0 in /usr/local/lib/python3.6/dist-packages (from category_encoders) (1.1.0)\n",
            "Requirement already satisfied: patsy>=0.4.1 in /usr/local/lib/python3.6/dist-packages (from category_encoders) (0.5.1)\n",
            "Requirement already satisfied: scikit-learn>=0.17.1 in /usr/local/lib/python3.6/dist-packages (from category_encoders) (0.20.3)\n",
            "Requirement already satisfied: pytz>=2011k in /usr/local/lib/python3.6/dist-packages (from pandas>=0.20.1->category_encoders) (2018.9)\n",
            "Requirement already satisfied: python-dateutil>=2 in /usr/local/lib/python3.6/dist-packages (from pandas>=0.20.1->category_encoders) (2.5.3)\n",
            "Requirement already satisfied: six in /usr/local/lib/python3.6/dist-packages (from patsy>=0.4.1->category_encoders) (1.11.0)\n",
            "Installing collected packages: category-encoders\n",
            "Successfully installed category-encoders-1.3.0\n"
          ],
          "name": "stdout"
        }
      ]
    },
    {
      "metadata": {
        "id": "tyoEfnRBwk7H",
        "colab_type": "code",
        "colab": {}
      },
      "cell_type": "code",
      "source": [
        "# housekeeping\n",
        "import pandas as pd\n",
        "import numpy as np\n",
        "import warnings\n",
        "\n",
        "from sklearn.metrics import accuracy_score, recall_score\n",
        "from sklearn.model_selection import train_test_split\n",
        "from sklearn.metrics import roc_auc_score\n",
        "from sklearn.linear_model import LogisticRegression\n",
        "from sklearn.exceptions import DataConversionWarning\n",
        "from sklearn.preprocessing import StandardScaler\n",
        "from sklearn.pipeline import make_pipeline\n",
        "import category_encoders as ce\n",
        "\n",
        "pd.set_option('display.max_columns', None) # all cols\n",
        "pd.set_option('display.width', 161)\n",
        "warnings.filterwarnings('ignore')\n"
      ],
      "execution_count": 0,
      "outputs": []
    },
    {
      "metadata": {
        "id": "W_j0Bwj7wtaP",
        "colab_type": "code",
        "colab": {}
      },
      "cell_type": "code",
      "source": [
        "# get data\n",
        "#path = \"https://github.com/wel51x/DS-Unit-2-Sprint-5-Predictive-Modeling-Challenge/tree/master/data/\"\n",
        "train_features_file = \"train_features.csv\"\n",
        "train_labels_file = \"train_labels.csv\"\n",
        "test_features_file = \"test_features.csv\"\n",
        "submission_in_file = \"sample_submission.csv\"\n",
        "\n",
        "train_features = pd.read_csv(train_features_file, sep=',')\n",
        "train_labels = pd.read_csv(train_labels_file)\n",
        "test_features = pd.read_csv(test_features_file)\n"
      ],
      "execution_count": 0,
      "outputs": []
    },
    {
      "metadata": {
        "id": "CrYYA-lQ2Nhr",
        "colab_type": "code",
        "outputId": "5d7bfc89-062f-4540-c031-dc46e23cd304",
        "colab": {
          "base_uri": "https://localhost:8080/",
          "height": 2771
        }
      },
      "cell_type": "code",
      "source": [
        "# more housekeeping\n",
        "print(\"train_features shape =\", train_features.shape)\n",
        "print(\"train_labels shape =\", train_labels.shape)\n",
        "print(\"test_features shape =\", test_features.shape)\n",
        "\n",
        "print(\"\\ntrain_features info:\")\n",
        "print(train_features.info())\n",
        "print(\"\\ntrain_labels info:\")\n",
        "print(train_labels.info())\n",
        "print(train_labels.sample(8))\n",
        "\n",
        "print(\"\\ntrain_features null counts:\")\n",
        "print(train_features.isnull().sum())\n",
        "print(train_labels.status_group.value_counts())\n",
        "\n",
        "print(\"\\ntest_features null counts:\")\n",
        "print(test_features.isnull().sum())\n",
        "train_features.dropna(axis=1, inplace=True)\n",
        "test_features.dropna(axis=1, inplace=True)\n",
        "print(train_features.isnull().sum().sum())\n",
        "print(test_features.isnull().sum().sum())\n"
      ],
      "execution_count": 0,
      "outputs": [
        {
          "output_type": "stream",
          "text": [
            "train_features shape = (59400, 40)\n",
            "train_labels shape = (59400, 2)\n",
            "test_features shape = (14358, 40)\n",
            "\n",
            "train_features info:\n",
            "<class 'pandas.core.frame.DataFrame'>\n",
            "RangeIndex: 59400 entries, 0 to 59399\n",
            "Data columns (total 40 columns):\n",
            "id                       59400 non-null int64\n",
            "amount_tsh               59400 non-null float64\n",
            "date_recorded            59400 non-null object\n",
            "funder                   55765 non-null object\n",
            "gps_height               59400 non-null int64\n",
            "installer                55745 non-null object\n",
            "longitude                59400 non-null float64\n",
            "latitude                 59400 non-null float64\n",
            "wpt_name                 59400 non-null object\n",
            "num_private              59400 non-null int64\n",
            "basin                    59400 non-null object\n",
            "subvillage               59029 non-null object\n",
            "region                   59400 non-null object\n",
            "region_code              59400 non-null int64\n",
            "district_code            59400 non-null int64\n",
            "lga                      59400 non-null object\n",
            "ward                     59400 non-null object\n",
            "population               59400 non-null int64\n",
            "public_meeting           56066 non-null object\n",
            "recorded_by              59400 non-null object\n",
            "scheme_management        55523 non-null object\n",
            "scheme_name              31234 non-null object\n",
            "permit                   56344 non-null object\n",
            "construction_year        59400 non-null int64\n",
            "extraction_type          59400 non-null object\n",
            "extraction_type_group    59400 non-null object\n",
            "extraction_type_class    59400 non-null object\n",
            "management               59400 non-null object\n",
            "management_group         59400 non-null object\n",
            "payment                  59400 non-null object\n",
            "payment_type             59400 non-null object\n",
            "water_quality            59400 non-null object\n",
            "quality_group            59400 non-null object\n",
            "quantity                 59400 non-null object\n",
            "quantity_group           59400 non-null object\n",
            "source                   59400 non-null object\n",
            "source_type              59400 non-null object\n",
            "source_class             59400 non-null object\n",
            "waterpoint_type          59400 non-null object\n",
            "waterpoint_type_group    59400 non-null object\n",
            "dtypes: float64(3), int64(7), object(30)\n",
            "memory usage: 18.1+ MB\n",
            "None\n",
            "\n",
            "train_labels info:\n",
            "<class 'pandas.core.frame.DataFrame'>\n",
            "RangeIndex: 59400 entries, 0 to 59399\n",
            "Data columns (total 2 columns):\n",
            "id              59400 non-null int64\n",
            "status_group    59400 non-null object\n",
            "dtypes: int64(1), object(1)\n",
            "memory usage: 928.2+ KB\n",
            "None\n",
            "          id    status_group\n",
            "28391   3939      functional\n",
            "40406   7290      functional\n",
            "44306  11403      functional\n",
            "43308  32712      functional\n",
            "5428   48020  non functional\n",
            "47672  35968      functional\n",
            "39862  14480  non functional\n",
            "42522   4118      functional\n",
            "\n",
            "train_features null counts:\n",
            "id                           0\n",
            "amount_tsh                   0\n",
            "date_recorded                0\n",
            "funder                    3635\n",
            "gps_height                   0\n",
            "installer                 3655\n",
            "longitude                    0\n",
            "latitude                     0\n",
            "wpt_name                     0\n",
            "num_private                  0\n",
            "basin                        0\n",
            "subvillage                 371\n",
            "region                       0\n",
            "region_code                  0\n",
            "district_code                0\n",
            "lga                          0\n",
            "ward                         0\n",
            "population                   0\n",
            "public_meeting            3334\n",
            "recorded_by                  0\n",
            "scheme_management         3877\n",
            "scheme_name              28166\n",
            "permit                    3056\n",
            "construction_year            0\n",
            "extraction_type              0\n",
            "extraction_type_group        0\n",
            "extraction_type_class        0\n",
            "management                   0\n",
            "management_group             0\n",
            "payment                      0\n",
            "payment_type                 0\n",
            "water_quality                0\n",
            "quality_group                0\n",
            "quantity                     0\n",
            "quantity_group               0\n",
            "source                       0\n",
            "source_type                  0\n",
            "source_class                 0\n",
            "waterpoint_type              0\n",
            "waterpoint_type_group        0\n",
            "dtype: int64\n",
            "functional                 32259\n",
            "non functional             22824\n",
            "functional needs repair     4317\n",
            "Name: status_group, dtype: int64\n",
            "\n",
            "test_features null counts:\n",
            "id                          0\n",
            "amount_tsh                  0\n",
            "date_recorded               0\n",
            "funder                    783\n",
            "gps_height                  0\n",
            "installer                 788\n",
            "longitude                   0\n",
            "latitude                    0\n",
            "wpt_name                    0\n",
            "num_private                 0\n",
            "basin                       0\n",
            "subvillage                 94\n",
            "region                      0\n",
            "region_code                 0\n",
            "district_code               0\n",
            "lga                         0\n",
            "ward                        0\n",
            "population                  0\n",
            "public_meeting            785\n",
            "recorded_by                 0\n",
            "scheme_management         939\n",
            "scheme_name              6839\n",
            "permit                    663\n",
            "construction_year           0\n",
            "extraction_type             0\n",
            "extraction_type_group       0\n",
            "extraction_type_class       0\n",
            "management                  0\n",
            "management_group            0\n",
            "payment                     0\n",
            "payment_type                0\n",
            "water_quality               0\n",
            "quality_group               0\n",
            "quantity                    0\n",
            "quantity_group              0\n",
            "source                      0\n",
            "source_type                 0\n",
            "source_class                0\n",
            "waterpoint_type             0\n",
            "waterpoint_type_group       0\n",
            "dtype: int64\n",
            "0\n",
            "0\n"
          ],
          "name": "stdout"
        }
      ]
    },
    {
      "metadata": {
        "id": "-wOYkMqC2gDJ",
        "colab_type": "code",
        "outputId": "76b03b9b-f4cb-4476-ee60-92d77e568668",
        "colab": {
          "base_uri": "https://localhost:8080/",
          "height": 564
        }
      },
      "cell_type": "code",
      "source": [
        "# more init\n",
        "df_num_cols = train_features.select_dtypes('number').columns.tolist()\n",
        "df_cat_cols = train_features.select_dtypes(exclude='number').columns.tolist()[:-1]\n",
        "train_labels.status_group = train_labels.status_group.replace({'non functional':0,\n",
        "                                                               'functional needs repair':1,\n",
        "                                                               'functional':1})\n",
        "print(\"\\ntrain_labels info:\")\n",
        "print(train_labels.info())\n",
        "print(\"\\ndf_num_cols:\", df_num_cols)\n",
        "print(\"\\ntrain_features.describe() non-numeric:\")\n",
        "print(train_features.describe(exclude=np.number))\n"
      ],
      "execution_count": 0,
      "outputs": [
        {
          "output_type": "stream",
          "text": [
            "\n",
            "train_labels info:\n",
            "<class 'pandas.core.frame.DataFrame'>\n",
            "RangeIndex: 59400 entries, 0 to 59399\n",
            "Data columns (total 2 columns):\n",
            "id              59400 non-null int64\n",
            "status_group    59400 non-null int64\n",
            "dtypes: int64(2)\n",
            "memory usage: 928.2 KB\n",
            "None\n",
            "\n",
            "df_num_cols: ['id', 'amount_tsh', 'gps_height', 'longitude', 'latitude', 'num_private', 'region_code', 'district_code', 'population', 'construction_year']\n",
            "\n",
            "train_features.describe() non-numeric:\n",
            "       date_recorded wpt_name          basin  region     lga   ward              recorded_by extraction_type extraction_type_group extraction_type_class  \\\n",
            "count          59400    59400          59400   59400   59400  59400                    59400           59400                 59400                 59400   \n",
            "unique           356    37400              9      21     125   2092                        1              18                    13                     7   \n",
            "top       2011-03-15     none  Lake Victoria  Iringa  Njombe  Igosi  GeoData Consultants Ltd         gravity               gravity               gravity   \n",
            "freq             572     3563          10248    5294    2503    307                    59400           26780                 26780                 26780   \n",
            "\n",
            "       management management_group    payment payment_type water_quality quality_group quantity quantity_group  source source_type source_class  \\\n",
            "count       59400            59400      59400        59400         59400         59400    59400          59400   59400       59400        59400   \n",
            "unique         12                5          7            7             8             6        5              5      10           7            3   \n",
            "top           vwc       user-group  never pay    never pay          soft          good   enough         enough  spring      spring  groundwater   \n",
            "freq        40507            52490      25348        25348         50818         50818    33186          33186   17021       17021        45794   \n",
            "\n",
            "           waterpoint_type waterpoint_type_group  \n",
            "count                59400                 59400  \n",
            "unique                   7                     6  \n",
            "top     communal standpipe    communal standpipe  \n",
            "freq                 28522                 34625  \n"
          ],
          "name": "stdout"
        }
      ]
    },
    {
      "metadata": {
        "id": "LBR1RoLg2kmP",
        "colab_type": "code",
        "outputId": "e62e5aed-b600-454e-9ae9-4aa3a1782293",
        "colab": {
          "base_uri": "https://localhost:8080/",
          "height": 482
        }
      },
      "cell_type": "code",
      "source": [
        "#start modelling\n",
        "y_train = train_labels['status_group']\n",
        "X_train = train_features[df_num_cols]\n",
        "X_test  = test_features[df_num_cols]\n",
        "\n",
        "X_train, X_val, y_train, y_val = train_test_split(X_train, y_train)\n",
        "#X_train.shape, X_val.shape, y_train.shape, y_val.shape\n",
        "print(\"\\nX_train shape =\", X_train.shape)\n",
        "print(\"X_val shape =\", X_val.shape)\n",
        "print(\"y_train shape =\", y_train.shape)\n",
        "print(\"y_val shape =\", y_val.shape)\n",
        "\n",
        "print(\"\\ny_train.value_counts:\")\n",
        "print(y_train.value_counts(normalize=True))\n",
        "\n",
        "majority_class = 0\n",
        "y_pred = [majority_class] * len(y_val)\n",
        "\n",
        "print(\"\\nAccuracy Score:\", accuracy_score(y_val, y_pred))\n",
        "# Recall Score = True Positive / (True Positive + False Negative)\n",
        "print(\"Recall Score:\", recall_score(y_val, y_pred))\n",
        "print(\"roc_auc_score Score:\", roc_auc_score(y_val, y_pred))\n",
        "\n",
        "print(\"\\nX_train.describe():\")\n",
        "print(X_train.describe())\n"
      ],
      "execution_count": 0,
      "outputs": [
        {
          "output_type": "stream",
          "text": [
            "\n",
            "X_train shape = (44550, 10)\n",
            "X_val shape = (14850, 10)\n",
            "y_train shape = (44550,)\n",
            "y_val shape = (14850,)\n",
            "\n",
            "y_train.value_counts:\n",
            "1    0.614164\n",
            "0    0.385836\n",
            "Name: status_group, dtype: float64\n",
            "\n",
            "Accuracy Score: 0.37946127946127944\n",
            "Recall Score: 0.0\n",
            "roc_auc_score Score: 0.5\n",
            "\n",
            "X_train.describe():\n",
            "                 id     amount_tsh    gps_height     longitude      latitude   num_private   region_code  district_code    population  construction_year\n",
            "count  44550.000000   44550.000000  44550.000000  44550.000000  4.455000e+04  44550.000000  44550.000000   44550.000000  44550.000000       44550.000000\n",
            "mean   37063.248844     322.374021    668.131605     34.070595 -5.715029e+00      0.507901     15.321437       5.626846    179.103906        1302.642402\n",
            "std    21414.250623    3244.625010    692.904791      6.610469  2.950653e+00     13.375594     17.691288       9.642230    451.142650         950.972571\n",
            "min        1.000000       0.000000    -90.000000      0.000000 -1.164944e+01      0.000000      1.000000       0.000000      0.000000           0.000000\n",
            "25%    18518.250000       0.000000      0.000000     33.096179 -8.552971e+00      0.000000      5.000000       2.000000      0.000000           0.000000\n",
            "50%    37074.500000       0.000000    371.000000     34.916052 -5.043386e+00      0.000000     12.000000       3.000000     25.000000        1986.000000\n",
            "75%    55529.500000      25.000000   1319.000000     37.185109 -3.328548e+00      0.000000     17.000000       5.000000    215.000000        2004.000000\n",
            "max    74247.000000  350000.000000   2628.000000     40.344301 -2.000000e-08   1776.000000     99.000000      80.000000  15300.000000        2013.000000\n"
          ],
          "name": "stdout"
        }
      ]
    },
    {
      "metadata": {
        "id": "6WKNA6Kp24H9",
        "colab_type": "code",
        "outputId": "4e46cce6-7dcc-45b2-b34b-4a27fd6febfd",
        "colab": {
          "base_uri": "https://localhost:8080/",
          "height": 51
        }
      },
      "cell_type": "code",
      "source": [
        "# LogisticRegression\n",
        "model = LogisticRegression(solver='lbfgs', max_iter=1000)\n",
        "model.fit(X_train, y_train)\n",
        "\n",
        "y_pred = model.predict(X_val)\n",
        "print(\"LogisticRegression roc_auc_score Score:\", roc_auc_score(y_val, y_pred))\n",
        "\n",
        "warnings.filterwarnings(action='ignore', category=DataConversionWarning)\n",
        "\n",
        "# LogisticRegression w/ StandardScaler\n",
        "scaler = StandardScaler()\n",
        "X_train_scaled = scaler.fit_transform(X_train)\n",
        "X_val_scaled = scaler.transform(X_val)\n",
        "\n",
        "model = LogisticRegression(solver='lbfgs', max_iter=5000)\n",
        "model.fit(X_train, y_train)\n",
        "\n",
        "y_pred = model.predict(X_val_scaled)\n",
        "print(\"LogisticRegression w/ StandardScaler roc_auc_score Score:\", roc_auc_score(y_val, y_pred))\n"
      ],
      "execution_count": 0,
      "outputs": [
        {
          "output_type": "stream",
          "text": [
            "LogisticRegression roc_auc_score Score: 0.5225470508569561\n",
            "LogisticRegression w/ StandardScaler roc_auc_score Score: 0.5365245411665811\n"
          ],
          "name": "stdout"
        }
      ]
    },
    {
      "metadata": {
        "id": "n-UC2hAa2-gt",
        "colab_type": "code",
        "outputId": "dffc9e09-0e83-4f89-b880-586d2217dc6a",
        "colab": {
          "base_uri": "https://localhost:8080/",
          "height": 34
        }
      },
      "cell_type": "code",
      "source": [
        "# pipeline\n",
        "pipeline = make_pipeline(\n",
        "    StandardScaler(),\n",
        "    LogisticRegression(solver='lbfgs')\n",
        ")\n",
        "\n",
        "pipeline.fit(X_train, y_train)\n",
        "\n",
        "y_pred = pipeline.predict(X_val)\n",
        "print(\"LogisticRegression w/ pipeline roc_auc_score Score:\", roc_auc_score(y_val, y_pred))\n"
      ],
      "execution_count": 0,
      "outputs": [
        {
          "output_type": "stream",
          "text": [
            "LogisticRegression w/ pipeline roc_auc_score Score: 0.5277073229914769\n"
          ],
          "name": "stdout"
        }
      ]
    },
    {
      "metadata": {
        "id": "frulUWPo3F6_",
        "colab_type": "code",
        "outputId": "473cfcab-45a7-4de8-c8de-34999820d01b",
        "colab": {
          "base_uri": "https://localhost:8080/",
          "height": 476
        }
      },
      "cell_type": "code",
      "source": [
        "# One-hot encode the \"low cardinality\" categoricals\n",
        "print(\"\\ntrain_features unique nonumeric values\")\n",
        "print(train_features.select_dtypes(exclude=np.number).nunique())\n",
        "\n",
        "pipeline = make_pipeline(\n",
        "    ce.OneHotEncoder(use_cat_names=True),\n",
        "    StandardScaler(),\n",
        "    LogisticRegression(solver='lbfgs', max_iter=5000)\n",
        ")\n",
        "# redo split for categoricals\n",
        "y_train = train_labels['status_group']\n",
        "X_train = train_features.drop([\"date_recorded\", \"wpt_name\", \"lga\", \"ward\"], axis = 1)\n",
        "X_test  = test_features.drop([\"date_recorded\", \"wpt_name\", \"lga\", \"ward\"], axis = 1)\n",
        "\n",
        "X_train, X_val, y_train, y_val = train_test_split(X_train, y_train)\n",
        "\n",
        "pipeline.fit(X_train, y_train)\n",
        "\n",
        "y_pred = pipeline.predict(X_val)\n",
        "print(\"LogisticRegression w/ One-hot encode roc_auc_score Score:\", roc_auc_score(y_val, y_pred))\n"
      ],
      "execution_count": 0,
      "outputs": [
        {
          "output_type": "stream",
          "text": [
            "\n",
            "train_features unique nonumeric values\n",
            "date_recorded              356\n",
            "wpt_name                 37400\n",
            "basin                        9\n",
            "region                      21\n",
            "lga                        125\n",
            "ward                      2092\n",
            "recorded_by                  1\n",
            "extraction_type             18\n",
            "extraction_type_group       13\n",
            "extraction_type_class        7\n",
            "management                  12\n",
            "management_group             5\n",
            "payment                      7\n",
            "payment_type                 7\n",
            "water_quality                8\n",
            "quality_group                6\n",
            "quantity                     5\n",
            "quantity_group               5\n",
            "source                      10\n",
            "source_type                  7\n",
            "source_class                 3\n",
            "waterpoint_type              7\n",
            "waterpoint_type_group        6\n",
            "dtype: int64\n",
            "LogisticRegression w/ One-hot encode roc_auc_score Score: 0.7588374773059142\n"
          ],
          "name": "stdout"
        }
      ]
    },
    {
      "metadata": {
        "id": "E0qYjpwdtaM6",
        "colab_type": "code",
        "outputId": "c31a0c44-c0b7-463e-800c-44c457f3c26b",
        "colab": {
          "base_uri": "https://localhost:8080/",
          "height": 612
        }
      },
      "cell_type": "code",
      "source": [
        "print(\"predict_proba:\\n\", pipeline.predict_proba(X_test))\n",
        "\n",
        "submission = pd.read_csv(submission_in_file)\n",
        "print(submission.head(8))\n",
        "print(submission.status_group.value_counts())\n",
        "print(submission.shape)\n",
        "\n",
        "y_pred_proba = pipeline.predict_proba(X_test)[:, 1:]\n",
        "print(\"y_pred_proba:\\n\", y_pred_proba)\n",
        "temp = pd.DataFrame(y_pred_proba)\n",
        "print(temp.shape)\n",
        "temp['status_group'] = np.where(temp[0] < .56, \"non functional\", \"functional\")\n",
        "print(temp.status_group.value_counts(normalize=True))\n",
        "\n",
        "submission['status_group'] = temp['status_group']\n",
        "print(submission.status_group.value_counts())\n",
        "\n",
        "submission_out_file = \"submission-day1.csv\"\n",
        "submission.to_csv(submission_out_file, index=False)\n",
        "# Best score so far: 0.73227"
      ],
      "execution_count": 0,
      "outputs": [
        {
          "output_type": "stream",
          "text": [
            "predict_proba:\n",
            " [[0.54596788 0.45403212]\n",
            " [0.34355279 0.65644721]\n",
            " [0.62873375 0.37126625]\n",
            " ...\n",
            " [0.44640091 0.55359909]\n",
            " [0.2501634  0.7498366 ]\n",
            " [0.95272864 0.04727136]]\n",
            "      id status_group\n",
            "0  50785   functional\n",
            "1  51630   functional\n",
            "2  17168   functional\n",
            "3  45559   functional\n",
            "4  49871   functional\n",
            "5  52449   functional\n",
            "6  24806   functional\n",
            "7  28965   functional\n",
            "functional    14358\n",
            "Name: status_group, dtype: int64\n",
            "(14358, 2)\n",
            "y_pred_proba:\n",
            " [[0.45403212]\n",
            " [0.65644721]\n",
            " [0.37126625]\n",
            " ...\n",
            " [0.55359909]\n",
            " [0.7498366 ]\n",
            " [0.04727136]]\n",
            "(14358, 1)\n",
            "functional        0.668617\n",
            "non functional    0.331383\n",
            "Name: status_group, dtype: float64\n",
            "functional        9600\n",
            "non functional    4758\n",
            "Name: status_group, dtype: int64\n"
          ],
          "name": "stdout"
        }
      ]
    }
  ]
}